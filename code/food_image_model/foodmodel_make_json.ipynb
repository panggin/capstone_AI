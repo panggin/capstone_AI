{
  "cells": [
    {
      "cell_type": "code",
      "execution_count": null,
      "metadata": {
        "id": "NNgyIl8QLIl6"
      },
      "outputs": [],
      "source": [
        "import tensorflow as tf\n",
        "\n",
        "import scipy\n",
        "\n",
        "from tensorflow import keras\n",
        "from keras.preprocessing.image import ImageDataGenerator\n",
        "\n",
        "import numpy as np\n",
        "import matplotlib.pyplot as plt"
      ]
    },
    {
      "cell_type": "code",
      "execution_count": null,
      "metadata": {
        "colab": {
          "base_uri": "https://localhost:8080/"
        },
        "id": "9IL_6dFaLTWN",
        "outputId": "857732f6-967d-40e8-8396-5191d4a62ad4"
      },
      "outputs": [
        {
          "output_type": "stream",
          "name": "stdout",
          "text": [
            "Drive already mounted at /content/drive; to attempt to forcibly remount, call drive.mount(\"/content/drive\", force_remount=True).\n"
          ]
        }
      ],
      "source": [
        "# 구글 드라이브 셋팅 \n",
        "from google.colab import drive\n",
        "drive.mount('/content/drive')"
      ]
    },
    {
      "cell_type": "code",
      "execution_count": null,
      "metadata": {
        "id": "kQebA5z8L9CS"
      },
      "outputs": [],
      "source": [
        "!rm -rf \"sample_data/\" \"kfood50_imageSet/\" # 파일 삭제하는 커맨드이므로 주의할 것!"
      ]
    },
    {
      "cell_type": "code",
      "execution_count": null,
      "metadata": {
        "id": "2yKkeibXMrm-"
      },
      "outputs": [],
      "source": [
        "!unzip \"/content/drive/MyDrive/AI_images/kfood50_imageSet.zip\" # 이미지셋 다운로드"
      ]
    },
    {
      "cell_type": "code",
      "execution_count": null,
      "metadata": {
        "id": "C_ZLDmvSM56t"
      },
      "outputs": [],
      "source": [
        "## 이미지셋 로드시 필요한 변수 지정\n",
        "imgSet_path = 'kfood50_imageSet/'\n",
        "train_path = imgSet_path + 'train/'\n",
        "valid_path = imgSet_path + 'validation/'\n",
        "test_path = imgSet_path + 'test/'\n",
        "\n",
        "img_height = 224\n",
        "img_width = 224\n",
        "batch_size = 32;"
      ]
    },
    {
      "cell_type": "code",
      "execution_count": null,
      "metadata": {
        "colab": {
          "base_uri": "https://localhost:8080/"
        },
        "id": "ka6t8rAVNbTU",
        "outputId": "854e5b58-a0c7-4339-ecf9-7706b2bb6760"
      },
      "outputs": [
        {
          "output_type": "stream",
          "name": "stdout",
          "text": [
            "Found 37500 images belonging to 50 classes.\n",
            "Found 7500 images belonging to 50 classes.\n",
            "Found 5000 images belonging to 50 classes.\n"
          ]
        }
      ],
      "source": [
        "datagen = ImageDataGenerator(rescale=1./ 255)\n",
        "train_datagen = ImageDataGenerator(\n",
        "                    rescale=1./ 255,\n",
        "                    rotation_range=10,\n",
        "                    shear_range=0.2,\n",
        "                    zoom_range=0.2,\n",
        "                    horizontal_flip=True,\n",
        "                )\n",
        "\n",
        "# 학습 데이터셋 - 이미지 증강 적용\n",
        "train_generator = train_datagen.flow_from_directory(\n",
        "    train_path,\n",
        "    shuffle=True,\n",
        "    target_size=(img_height, img_width),\n",
        "    batch_size=batch_size,\n",
        "    class_mode='categorical')\n",
        "\n",
        "# 검증 데이터셋 - 학습시 loss, accuracy 확인 \n",
        "valid_generator = datagen.flow_from_directory(\n",
        "    valid_path,\n",
        "    shuffle=True,\n",
        "    target_size=(img_height, img_width),\n",
        "    batch_size=batch_size,\n",
        "    class_mode='categorical')\n",
        "\n",
        "# 테스트 데이터셋 - 학습된 모델 정확도 확인\n",
        "test_generator = datagen.flow_from_directory(\n",
        "    test_path,\n",
        "    shuffle=False,\n",
        "    target_size=(img_height, img_width),\n",
        "    batch_size=batch_size,\n",
        "    class_mode='categorical')"
      ]
    },
    {
      "cell_type": "code",
      "source": [
        "##### 음식 레이블 json 형식으로 저장\n",
        "import json\n",
        "\n",
        "# 음식 레이블 저장\n",
        "class_dict = test_generator.class_indices # dict 형태 : {음식 종류 : 종류 index}\n",
        "print('음식 종류 :' ,list(class_dict.keys())) # 음식 이름 확인\n",
        "print('클래스 개수 :', len(class_dict.keys()))\n",
        "\n",
        "# JSON 형식으로 저장 - {index : 음식종류} 형태\n",
        "jsonfile_name = \"food_classes.json\"\n",
        "rev_class_dict = {v : k for k, v in class_dict.items()}\n",
        "with open(jsonfile_name, \"w\", encoding=\"utf-8\") as json_file:\n",
        "    json.dump(rev_class_dict, json_file, ensure_ascii=False)"
      ],
      "metadata": {
        "colab": {
          "base_uri": "https://localhost:8080/"
        },
        "id": "oiOkyiu2Hh2G",
        "outputId": "32089eff-f746-49e9-b2e2-53a1353b6f69"
      },
      "execution_count": null,
      "outputs": [
        {
          "output_type": "stream",
          "name": "stdout",
          "text": [
            "<class 'dict'>\n",
            "dict_keys(['고사리나물무침', '달걀국', '닭개장', '삼겹살구이', '소고기무국', '숙주나물무침', '시금치나물무침', '시래기된장국', '훈제오리', '갈비탕', '갈치구이', '감자조림', '감자탕', '건새우볶음', '고등어구이', '김치볶음밥', '김치찌개', '누룽지', '동태찌개', '된장찌개', '두부김치', '두부조림', '떡갈비', '떡볶이', '멸치볶음', '물냉면', '미역국', '북엇국', '비빔냉면', '비빔밥', '삼계탕', '새우볶음밥', '새우튀김', '소세지볶음', '순두부찌개', '알밥', '애호박볶음', '어묵볶음', '오징어튀김', '유부초밥', '육개장', '잡곡밥', '제육볶음', '주꾸미볶음', '짜장면', '짬뽕', '쫄면', '칼국수', '콩나물국', '황태구이'])\n",
            "클래스 개수 :  50\n"
          ]
        }
      ]
    },
    {
      "cell_type": "code",
      "source": [
        "!cp $jsonfile_name /content/drive/MyDrive/importFiles/$jsonfile_name # 드라이브에 저장"
      ],
      "metadata": {
        "id": "VEF5_5oQbqLj"
      },
      "execution_count": null,
      "outputs": []
    },
    {
      "cell_type": "code",
      "source": [
        "# json 파일 정상 오픈 확인 -> 서버에서 import할 모듈 작성 시 참고\n",
        "import json\n",
        "\n",
        "jsonfile_path = '/content/drive/MyDrive/importFiles/'\n",
        "jsonfile_name = \"food_classes.json\"\n",
        "with open(jsonfile_path+jsonfile_name, \"r\", encoding=\"utf-8\") as json_file:\n",
        "    jsonDict = json.load(json_file)\n",
        "\n",
        "# type 및 read 확인\n",
        "print(type(list(jsonDict.keys())[0]), type(list(jsonDict.values())[0]))\n",
        "for k, v in jsonDict.items():\n",
        "    print (int(k), v)"
      ],
      "metadata": {
        "id": "rCPE4pKlfkvl"
      },
      "execution_count": null,
      "outputs": []
    }
  ],
  "metadata": {
    "colab": {
      "provenance": [],
      "gpuType": "T4"
    },
    "gpuClass": "standard",
    "kernelspec": {
      "display_name": "Python 3",
      "name": "python3"
    },
    "language_info": {
      "name": "python"
    },
    "accelerator": "GPU"
  },
  "nbformat": 4,
  "nbformat_minor": 0
}